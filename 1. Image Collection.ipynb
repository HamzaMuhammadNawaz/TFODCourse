{
 "cells": [
  {
   "cell_type": "markdown",
   "metadata": {},
   "source": [
    "# 1. Import Dependencies"
   ]
  },
  {
   "cell_type": "code",
   "execution_count": 1,
   "metadata": {},
   "outputs": [
    {
     "name": "stdout",
     "output_type": "stream",
     "text": [
      "Collecting opencv-python\n",
      "  Using cached opencv_python-4.6.0.66-cp36-abi3-win_amd64.whl (35.6 MB)\n",
      "Collecting numpy>=1.17.3\n",
      "  Using cached numpy-1.23.1-cp310-cp310-win_amd64.whl (14.6 MB)\n",
      "Installing collected packages: numpy, opencv-python\n",
      "Successfully installed numpy-1.23.1 opencv-python-4.6.0.66\n"
     ]
    }
   ],
   "source": [
    "!pip install opencv-python"
   ]
  },
  {
   "cell_type": "code",
   "execution_count": 2,
   "metadata": {},
   "outputs": [],
   "source": [
    "# Import opencv\n",
    "import cv2 \n",
    "\n",
    "# Import uuid\n",
    "import uuid\n",
    "\n",
    "# Import Operating System\n",
    "import os\n",
    "\n",
    "# Import time\n",
    "import time"
   ]
  },
  {
   "cell_type": "markdown",
   "metadata": {},
   "source": [
    "# 2. Define Images to Collect"
   ]
  },
  {
   "cell_type": "code",
   "execution_count": 6,
   "metadata": {},
   "outputs": [],
   "source": [
    "labels = ['Hamza']\n",
    "number_imgs = 5"
   ]
  },
  {
   "cell_type": "markdown",
   "metadata": {},
   "source": [
    "# 3. Setup Folders "
   ]
  },
  {
   "cell_type": "code",
   "execution_count": 4,
   "metadata": {},
   "outputs": [],
   "source": [
    "IMAGES_PATH = os.path.join('Tensorflow', 'workspace', 'images', 'collectedimages')"
   ]
  },
  {
   "cell_type": "code",
   "execution_count": 5,
   "metadata": {},
   "outputs": [],
   "source": [
    "if not os.path.exists(IMAGES_PATH):\n",
    "    if os.name == 'posix':\n",
    "        !mkdir -p {IMAGES_PATH}\n",
    "    if os.name == 'nt':\n",
    "         !mkdir {IMAGES_PATH}\n",
    "for label in labels:\n",
    "    path = os.path.join(IMAGES_PATH, label)\n",
    "    if not os.path.exists(path):\n",
    "        !mkdir {path}"
   ]
  },
  {
   "cell_type": "markdown",
   "metadata": {},
   "source": [
    "# 4. Capture Images"
   ]
  },
  {
   "cell_type": "code",
   "execution_count": 14,
   "metadata": {},
   "outputs": [
    {
     "name": "stdout",
     "output_type": "stream",
     "text": [
      "Collecting images for Hamza\n",
      "Collecting image 0\n",
      "Collecting image 1\n",
      "Collecting image 2\n",
      "Collecting image 3\n",
      "Collecting image 4\n"
     ]
    }
   ],
   "source": [
    "for label in labels:\n",
    "    cap = cv2.VideoCapture(0)\n",
    "    print('Collecting images for {}'.format(label))\n",
    "    time.sleep(5)\n",
    "    for imgnum in range(number_imgs):\n",
    "        print('Collecting image {}'.format(imgnum))\n",
    "        ret, frame = cap.read()\n",
    "        imgname = os.path.join(IMAGES_PATH,label,label+'.'+'{}.jpg'.format(str(uuid.uuid1())))\n",
    "        cv2.imwrite(imgname, frame)\n",
    "        cv2.imshow('frame', frame)\n",
    "        time.sleep(3)\n",
    "\n",
    "        if cv2.waitKey(1) & 0xFF == ord('q'):\n",
    "            break\n",
    "cap.release()\n",
    "cv2.destroyAllWindows()"
   ]
  },
  {
   "cell_type": "markdown",
   "metadata": {},
   "source": [
    "# 5. Image Labelling"
   ]
  },
  {
   "cell_type": "code",
   "execution_count": 15,
   "metadata": {},
   "outputs": [
    {
     "name": "stdout",
     "output_type": "stream",
     "text": [
      "Collecting pyqt5\n",
      "  Using cached PyQt5-5.15.7-cp37-abi3-win_amd64.whl (6.8 MB)\n",
      "Collecting lxml\n",
      "  Using cached lxml-4.9.1-cp310-cp310-win_amd64.whl (3.6 MB)\n",
      "Collecting PyQt5-Qt5>=5.15.0\n",
      "  Using cached PyQt5_Qt5-5.15.2-py3-none-win_amd64.whl (50.1 MB)\n",
      "Collecting PyQt5-sip<13,>=12.11\n",
      "  Using cached PyQt5_sip-12.11.0-cp310-cp310-win_amd64.whl (78 kB)\n",
      "Installing collected packages: PyQt5-Qt5, PyQt5-sip, lxml, pyqt5\n",
      "Successfully installed PyQt5-Qt5-5.15.2 PyQt5-sip-12.11.0 lxml-4.9.1 pyqt5-5.15.7\n"
     ]
    }
   ],
   "source": [
    "!pip install --upgrade pyqt5 lxml"
   ]
  },
  {
   "cell_type": "code",
   "execution_count": 16,
   "metadata": {},
   "outputs": [],
   "source": [
    "LABELIMG_PATH = os.path.join('Tensorflow', 'labelimg')"
   ]
  },
  {
   "cell_type": "code",
   "execution_count": 17,
   "metadata": {},
   "outputs": [
    {
     "name": "stderr",
     "output_type": "stream",
     "text": [
      "Cloning into 'Tensorflow\\labelimg'...\n"
     ]
    }
   ],
   "source": [
    "if not os.path.exists(LABELIMG_PATH):\n",
    "    !mkdir {LABELIMG_PATH}\n",
    "    !git clone https://github.com/tzutalin/labelImg {LABELIMG_PATH}"
   ]
  },
  {
   "cell_type": "code",
   "execution_count": 18,
   "metadata": {},
   "outputs": [],
   "source": [
    "if os.name == 'posix':\n",
    "    !make qt5py3\n",
    "if os.name =='nt':\n",
    "    !cd {LABELIMG_PATH} && pyrcc5 -o libs/resources.py resources.qrc"
   ]
  },
  {
   "cell_type": "code",
   "execution_count": 19,
   "metadata": {},
   "outputs": [
    {
     "name": "stdout",
     "output_type": "stream",
     "text": [
      "Image:E:\\My Projects\\Tensorflow Face Detection\\TFODCourse\\Tensorflow\\workspace\\images\\collectedimages\\Hamza\\Hamza.7ad01314-0798-11ed-9d7a-bc8556035174.jpg -> Annotation:E:/My Projects/Tensorflow Face Detection/TFODCourse/Tensorflow/workspace/images/collectedimages/Hamza\\Hamza.7ad01314-0798-11ed-9d7a-bc8556035174.xml\n",
      "Image:E:\\My Projects\\Tensorflow Face Detection\\TFODCourse\\Tensorflow\\workspace\\images\\collectedimages\\Hamza\\Hamza.7c9cadfb-0798-11ed-bf09-bc8556035174.jpg -> Annotation:E:/My Projects/Tensorflow Face Detection/TFODCourse/Tensorflow/workspace/images/collectedimages/Hamza\\Hamza.7c9cadfb-0798-11ed-bf09-bc8556035174.xml\n",
      "Image:E:\\My Projects\\Tensorflow Face Detection\\TFODCourse\\Tensorflow\\workspace\\images\\collectedimages\\Hamza\\Hamza.7e6c6fac-0798-11ed-8252-bc8556035174.jpg -> Annotation:E:/My Projects/Tensorflow Face Detection/TFODCourse/Tensorflow/workspace/images/collectedimages/Hamza\\Hamza.7e6c6fac-0798-11ed-8252-bc8556035174.xml\n",
      "Image:E:\\My Projects\\Tensorflow Face Detection\\TFODCourse\\Tensorflow\\workspace\\images\\collectedimages\\Hamza\\Hamza.8ac72613-0798-11ed-8d5f-bc8556035174.jpg -> Annotation:E:/My Projects/Tensorflow Face Detection/TFODCourse/Tensorflow/workspace/images/collectedimages/Hamza\\Hamza.8ac72613-0798-11ed-8d5f-bc8556035174.xml\n",
      "Image:E:\\My Projects\\Tensorflow Face Detection\\TFODCourse\\Tensorflow\\workspace\\images\\collectedimages\\Hamza\\Hamza.8c970c07-0798-11ed-8109-bc8556035174.jpg -> Annotation:E:/My Projects/Tensorflow Face Detection/TFODCourse/Tensorflow/workspace/images/collectedimages/Hamza\\Hamza.8c970c07-0798-11ed-8109-bc8556035174.xml\n",
      "Image:E:\\My Projects\\Tensorflow Face Detection\\TFODCourse\\Tensorflow\\workspace\\images\\collectedimages\\Hamza\\Hamza.8e63d757-0798-11ed-9c5c-bc8556035174.jpg -> Annotation:E:/My Projects/Tensorflow Face Detection/TFODCourse/Tensorflow/workspace/images/collectedimages/Hamza\\Hamza.8e63d757-0798-11ed-9c5c-bc8556035174.xml\n",
      "Image:E:\\My Projects\\Tensorflow Face Detection\\TFODCourse\\Tensorflow\\workspace\\images\\collectedimages\\Hamza\\Hamza.9b244085-0798-11ed-9285-bc8556035174.jpg -> Annotation:E:/My Projects/Tensorflow Face Detection/TFODCourse/Tensorflow/workspace/images/collectedimages/Hamza\\Hamza.9b244085-0798-11ed-9285-bc8556035174.xml\n",
      "Cancel creation.\n",
      "Image:E:\\My Projects\\Tensorflow Face Detection\\TFODCourse\\Tensorflow\\workspace\\images\\collectedimages\\Hamza\\Hamza.9cf21bca-0798-11ed-9bc4-bc8556035174.jpg -> Annotation:E:/My Projects/Tensorflow Face Detection/TFODCourse/Tensorflow/workspace/images/collectedimages/Hamza\\Hamza.9cf21bca-0798-11ed-9bc4-bc8556035174.xml\n",
      "Image:E:\\My Projects\\Tensorflow Face Detection\\TFODCourse\\Tensorflow\\workspace\\images\\collectedimages\\Hamza\\Hamza.9ec1dfc5-0798-11ed-adf0-bc8556035174.jpg -> Annotation:E:/My Projects/Tensorflow Face Detection/TFODCourse/Tensorflow/workspace/images/collectedimages/Hamza\\Hamza.9ec1dfc5-0798-11ed-adf0-bc8556035174.xml\n",
      "Image:E:\\My Projects\\Tensorflow Face Detection\\TFODCourse\\Tensorflow\\workspace\\images\\collectedimages\\Hamza\\Hamza.9ec1dfc5-0798-11ed-adf0-bc8556035174.jpg -> Annotation:E:/My Projects/Tensorflow Face Detection/TFODCourse/Tensorflow/workspace/images/collectedimages/Hamza\\Hamza.9ec1dfc5-0798-11ed-adf0-bc8556035174.xml\n",
      "Image:E:\\My Projects\\Tensorflow Face Detection\\TFODCourse\\Tensorflow\\workspace\\images\\collectedimages\\Hamza\\Hamza.9ec1dfc5-0798-11ed-adf0-bc8556035174.jpg -> Annotation:E:/My Projects/Tensorflow Face Detection/TFODCourse/Tensorflow/workspace/images/collectedimages/Hamza\\Hamza.9ec1dfc5-0798-11ed-adf0-bc8556035174.xml\n",
      "Image:E:\\My Projects\\Tensorflow Face Detection\\TFODCourse\\Tensorflow\\workspace\\images\\collectedimages\\Hamza\\Hamza.9ec1dfc5-0798-11ed-adf0-bc8556035174.jpg -> Annotation:E:/My Projects/Tensorflow Face Detection/TFODCourse/Tensorflow/workspace/images/collectedimages/Hamza\\Hamza.9ec1dfc5-0798-11ed-adf0-bc8556035174.xml\n",
      "Image:E:\\My Projects\\Tensorflow Face Detection\\TFODCourse\\Tensorflow\\workspace\\images\\collectedimages\\Hamza\\Hamza.9ec1dfc5-0798-11ed-adf0-bc8556035174.jpg -> Annotation:E:/My Projects/Tensorflow Face Detection/TFODCourse/Tensorflow/workspace/images/collectedimages/Hamza\\Hamza.9ec1dfc5-0798-11ed-adf0-bc8556035174.xml\n",
      "Image:E:\\My Projects\\Tensorflow Face Detection\\TFODCourse\\Tensorflow\\workspace\\images\\collectedimages\\Hamza\\Hamza.9ec1dfc5-0798-11ed-adf0-bc8556035174.jpg -> Annotation:E:/My Projects/Tensorflow Face Detection/TFODCourse/Tensorflow/workspace/images/collectedimages/Hamza\\Hamza.9ec1dfc5-0798-11ed-adf0-bc8556035174.xml\n",
      "Image:E:\\My Projects\\Tensorflow Face Detection\\TFODCourse\\Tensorflow\\workspace\\images\\collectedimages\\Hamza\\Hamza.9ec1dfc5-0798-11ed-adf0-bc8556035174.jpg -> Annotation:E:/My Projects/Tensorflow Face Detection/TFODCourse/Tensorflow/workspace/images/collectedimages/Hamza\\Hamza.9ec1dfc5-0798-11ed-adf0-bc8556035174.xml\n",
      "Image:E:\\My Projects\\Tensorflow Face Detection\\TFODCourse\\Tensorflow\\workspace\\images\\collectedimages\\Hamza\\Hamza.9ec1dfc5-0798-11ed-adf0-bc8556035174.jpg -> Annotation:E:/My Projects/Tensorflow Face Detection/TFODCourse/Tensorflow/workspace/images/collectedimages/Hamza\\Hamza.9ec1dfc5-0798-11ed-adf0-bc8556035174.xml\n",
      "Image:E:\\My Projects\\Tensorflow Face Detection\\TFODCourse\\Tensorflow\\workspace\\images\\collectedimages\\Hamza\\Hamza.69f46600-0798-11ed-85a2-bc8556035174.jpg -> Annotation:E:/My Projects/Tensorflow Face Detection/TFODCourse/Tensorflow/workspace/images/collectedimages/Hamza\\Hamza.69f46600-0798-11ed-85a2-bc8556035174.xml\n",
      "Image:E:\\My Projects\\Tensorflow Face Detection\\TFODCourse\\Tensorflow\\workspace\\images\\collectedimages\\Hamza\\Hamza.78f8ce09-0798-11ed-ab7a-bc8556035174.jpg -> Annotation:E:/My Projects/Tensorflow Face Detection/TFODCourse/Tensorflow/workspace/images/collectedimages/Hamza\\Hamza.78f8ce09-0798-11ed-ab7a-bc8556035174.xml\n",
      "Image:E:\\My Projects\\Tensorflow Face Detection\\TFODCourse\\Tensorflow\\workspace\\images\\collectedimages\\Hamza\\Hamza.88ee71a1-0798-11ed-bf1c-bc8556035174.jpg -> Annotation:E:/My Projects/Tensorflow Face Detection/TFODCourse/Tensorflow/workspace/images/collectedimages/Hamza\\Hamza.88ee71a1-0798-11ed-bf1c-bc8556035174.xml\n",
      "Image:E:\\My Projects\\Tensorflow Face Detection\\TFODCourse\\Tensorflow\\workspace\\images\\collectedimages\\Hamza\\Hamza.626cefaf-0798-11ed-8eb3-bc8556035174.jpg -> Annotation:E:/My Projects/Tensorflow Face Detection/TFODCourse/Tensorflow/workspace/images/collectedimages/Hamza\\Hamza.626cefaf-0798-11ed-8eb3-bc8556035174.xml\n",
      "Image:E:\\My Projects\\Tensorflow Face Detection\\TFODCourse\\Tensorflow\\workspace\\images\\collectedimages\\Hamza\\Hamza.803c033a-0798-11ed-a410-bc8556035174.jpg -> Annotation:E:/My Projects/Tensorflow Face Detection/TFODCourse/Tensorflow/workspace/images/collectedimages/Hamza\\Hamza.803c033a-0798-11ed-a410-bc8556035174.xml\n",
      "Image:E:\\My Projects\\Tensorflow Face Detection\\TFODCourse\\Tensorflow\\workspace\\images\\collectedimages\\Hamza\\Hamza.9033b8a2-0798-11ed-8f81-bc8556035174.jpg -> Annotation:E:/My Projects/Tensorflow Face Detection/TFODCourse/Tensorflow/workspace/images/collectedimages/Hamza\\Hamza.9033b8a2-0798-11ed-8f81-bc8556035174.xml\n",
      "Image:E:\\My Projects\\Tensorflow Face Detection\\TFODCourse\\Tensorflow\\workspace\\images\\collectedimages\\Hamza\\Hamza.64820c8f-0798-11ed-b616-bc8556035174.jpg -> Annotation:E:/My Projects/Tensorflow Face Detection/TFODCourse/Tensorflow/workspace/images/collectedimages/Hamza\\Hamza.64820c8f-0798-11ed-b616-bc8556035174.xml\n",
      "Image:E:\\My Projects\\Tensorflow Face Detection\\TFODCourse\\Tensorflow\\workspace\\images\\collectedimages\\Hamza\\Hamza.66575cde-0798-11ed-aa31-bc8556035174.jpg -> Annotation:E:/My Projects/Tensorflow Face Detection/TFODCourse/Tensorflow/workspace/images/collectedimages/Hamza\\Hamza.66575cde-0798-11ed-aa31-bc8556035174.xml\n",
      "Image:E:\\My Projects\\Tensorflow Face Detection\\TFODCourse\\Tensorflow\\workspace\\images\\collectedimages\\Hamza\\Hamza.97800b7d-0798-11ed-8b6d-bc8556035174.jpg -> Annotation:E:/My Projects/Tensorflow Face Detection/TFODCourse/Tensorflow/workspace/images/collectedimages/Hamza\\Hamza.97800b7d-0798-11ed-8b6d-bc8556035174.xml\n",
      "Image:E:\\My Projects\\Tensorflow Face Detection\\TFODCourse\\Tensorflow\\workspace\\images\\collectedimages\\Hamza\\Hamza.6827242a-0798-11ed-a723-bc8556035174.jpg -> Annotation:E:/My Projects/Tensorflow Face Detection/TFODCourse/Tensorflow/workspace/images/collectedimages/Hamza\\Hamza.6827242a-0798-11ed-a723-bc8556035174.xml\n",
      "Image:E:\\My Projects\\Tensorflow Face Detection\\TFODCourse\\Tensorflow\\workspace\\images\\collectedimages\\Hamza\\Hamza.9954064e-0798-11ed-b10e-bc8556035174.jpg -> Annotation:E:/My Projects/Tensorflow Face Detection/TFODCourse/Tensorflow/workspace/images/collectedimages/Hamza\\Hamza.9954064e-0798-11ed-b10e-bc8556035174.xml\n",
      "Image:E:\\My Projects\\Tensorflow Face Detection\\TFODCourse\\Tensorflow\\workspace\\images\\collectedimages\\Hamza\\Hamza.a6ae0d10-0798-11ed-b738-bc8556035174.jpg -> Annotation:E:/My Projects/Tensorflow Face Detection/TFODCourse/Tensorflow/workspace/images/collectedimages/Hamza\\Hamza.a6ae0d10-0798-11ed-b738-bc8556035174.xml\n",
      "Image:E:\\My Projects\\Tensorflow Face Detection\\TFODCourse\\Tensorflow\\workspace\\images\\collectedimages\\Hamza\\Hamza.a8840fb1-0798-11ed-a84d-bc8556035174.jpg -> Annotation:E:/My Projects/Tensorflow Face Detection/TFODCourse/Tensorflow/workspace/images/collectedimages/Hamza\\Hamza.a8840fb1-0798-11ed-a84d-bc8556035174.xml\n",
      "Image:E:\\My Projects\\Tensorflow Face Detection\\TFODCourse\\Tensorflow\\workspace\\images\\collectedimages\\Hamza\\Hamza.aa51ea34-0798-11ed-beb6-bc8556035174.jpg -> Annotation:E:/My Projects/Tensorflow Face Detection/TFODCourse/Tensorflow/workspace/images/collectedimages/Hamza\\Hamza.aa51ea34-0798-11ed-beb6-bc8556035174.xml\n",
      "Image:E:\\My Projects\\Tensorflow Face Detection\\TFODCourse\\Tensorflow\\workspace\\images\\collectedimages\\Hamza\\Hamza.ac1ffd24-0798-11ed-8811-bc8556035174.jpg -> Annotation:E:/My Projects/Tensorflow Face Detection/TFODCourse/Tensorflow/workspace/images/collectedimages/Hamza\\Hamza.ac1ffd24-0798-11ed-8811-bc8556035174.xml\n",
      "Image:E:\\My Projects\\Tensorflow Face Detection\\TFODCourse\\Tensorflow\\workspace\\images\\collectedimages\\Hamza\\Hamza.d66bdca3-0798-11ed-9290-bc8556035174.jpg -> Annotation:E:/My Projects/Tensorflow Face Detection/TFODCourse/Tensorflow/workspace/images/collectedimages/Hamza\\Hamza.d66bdca3-0798-11ed-9290-bc8556035174.xml\n",
      "Image:E:\\My Projects\\Tensorflow Face Detection\\TFODCourse\\Tensorflow\\workspace\\images\\collectedimages\\Hamza\\Hamza.d837b348-0798-11ed-97d8-bc8556035174.jpg -> Annotation:E:/My Projects/Tensorflow Face Detection/TFODCourse/Tensorflow/workspace/images/collectedimages/Hamza\\Hamza.d837b348-0798-11ed-97d8-bc8556035174.xml\n",
      "Image:E:\\My Projects\\Tensorflow Face Detection\\TFODCourse\\Tensorflow\\workspace\\images\\collectedimages\\Hamza\\Hamza.d494787b-0798-11ed-aa1a-bc8556035174.jpg -> Annotation:E:/My Projects/Tensorflow Face Detection/TFODCourse/Tensorflow/workspace/images/collectedimages/Hamza\\Hamza.d494787b-0798-11ed-aa1a-bc8556035174.xml\n",
      "Image:E:\\My Projects\\Tensorflow Face Detection\\TFODCourse\\Tensorflow\\workspace\\images\\collectedimages\\Hamza\\Hamza.da072836-0798-11ed-8a4b-bc8556035174.jpg -> Annotation:E:/My Projects/Tensorflow Face Detection/TFODCourse/Tensorflow/workspace/images/collectedimages/Hamza\\Hamza.da072836-0798-11ed-8a4b-bc8556035174.xml\n",
      "Image:E:\\My Projects\\Tensorflow Face Detection\\TFODCourse\\Tensorflow\\workspace\\images\\collectedimages\\Hamza\\Hamza.e4ec051a-0798-11ed-99cb-bc8556035174.jpg -> Annotation:E:/My Projects/Tensorflow Face Detection/TFODCourse/Tensorflow/workspace/images/collectedimages/Hamza\\Hamza.e4ec051a-0798-11ed-99cb-bc8556035174.xml\n",
      "Image:E:\\My Projects\\Tensorflow Face Detection\\TFODCourse\\Tensorflow\\workspace\\images\\collectedimages\\Hamza\\Hamza.e6bdbd94-0798-11ed-8bd7-bc8556035174.jpg -> Annotation:E:/My Projects/Tensorflow Face Detection/TFODCourse/Tensorflow/workspace/images/collectedimages/Hamza\\Hamza.e6bdbd94-0798-11ed-8bd7-bc8556035174.xml\n",
      "Image:E:\\My Projects\\Tensorflow Face Detection\\TFODCourse\\Tensorflow\\workspace\\images\\collectedimages\\Hamza\\Hamza.e88ce83e-0798-11ed-99b1-bc8556035174.jpg -> Annotation:E:/My Projects/Tensorflow Face Detection/TFODCourse/Tensorflow/workspace/images/collectedimages/Hamza\\Hamza.e88ce83e-0798-11ed-99b1-bc8556035174.xml\n",
      "Image:E:\\My Projects\\Tensorflow Face Detection\\TFODCourse\\Tensorflow\\workspace\\images\\collectedimages\\Hamza\\Hamza.e316bca4-0798-11ed-b2cf-bc8556035174.jpg -> Annotation:E:/My Projects/Tensorflow Face Detection/TFODCourse/Tensorflow/workspace/images/collectedimages/Hamza\\Hamza.e316bca4-0798-11ed-b2cf-bc8556035174.xml\n",
      "Image:E:\\My Projects\\Tensorflow Face Detection\\TFODCourse\\Tensorflow\\workspace\\images\\collectedimages\\Hamza\\Hamza.ea5b546f-0798-11ed-bfa0-bc8556035174.jpg -> Annotation:E:/My Projects/Tensorflow Face Detection/TFODCourse/Tensorflow/workspace/images/collectedimages/Hamza\\Hamza.ea5b546f-0798-11ed-bfa0-bc8556035174.xml\n",
      "Image:E:\\My Projects\\Tensorflow Face Detection\\TFODCourse\\Tensorflow\\workspace\\images\\collectedimages\\Hamza\\Hamza.f8e012df-0798-11ed-9667-bc8556035174.jpg -> Annotation:E:/My Projects/Tensorflow Face Detection/TFODCourse/Tensorflow/workspace/images/collectedimages/Hamza\\Hamza.f8e012df-0798-11ed-9667-bc8556035174.xml\n",
      "Image:E:\\My Projects\\Tensorflow Face Detection\\TFODCourse\\Tensorflow\\workspace\\images\\collectedimages\\Hamza\\Hamza.f19e5996-0798-11ed-bf3d-bc8556035174.jpg -> Annotation:E:/My Projects/Tensorflow Face Detection/TFODCourse/Tensorflow/workspace/images/collectedimages/Hamza\\Hamza.f19e5996-0798-11ed-bf3d-bc8556035174.xml\n",
      "Image:E:\\My Projects\\Tensorflow Face Detection\\TFODCourse\\Tensorflow\\workspace\\images\\collectedimages\\Hamza\\Hamza.f711e6a6-0798-11ed-86d5-bc8556035174.jpg -> Annotation:E:/My Projects/Tensorflow Face Detection/TFODCourse/Tensorflow/workspace/images/collectedimages/Hamza\\Hamza.f711e6a6-0798-11ed-86d5-bc8556035174.xml\n",
      "Image:E:\\My Projects\\Tensorflow Face Detection\\TFODCourse\\Tensorflow\\workspace\\images\\collectedimages\\Hamza\\Hamza.f3768f74-0798-11ed-b6a3-bc8556035174.jpg -> Annotation:E:/My Projects/Tensorflow Face Detection/TFODCourse/Tensorflow/workspace/images/collectedimages/Hamza\\Hamza.f3768f74-0798-11ed-b6a3-bc8556035174.xml\n",
      "Image:E:\\My Projects\\Tensorflow Face Detection\\TFODCourse\\Tensorflow\\workspace\\images\\collectedimages\\Hamza\\Hamza.f5447e2b-0798-11ed-b689-bc8556035174.jpg -> Annotation:E:/My Projects/Tensorflow Face Detection/TFODCourse/Tensorflow/workspace/images/collectedimages/Hamza\\Hamza.f5447e2b-0798-11ed-b689-bc8556035174.xml\n"
     ]
    }
   ],
   "source": [
    "!cd {LABELIMG_PATH} && python labelImg.py"
   ]
  },
  {
   "cell_type": "markdown",
   "metadata": {},
   "source": [
    "# 6. Move them into a Training and Testing Partition"
   ]
  },
  {
   "cell_type": "markdown",
   "metadata": {},
   "source": [
    "# OPTIONAL - 7. Compress them for Colab Training"
   ]
  },
  {
   "cell_type": "code",
   "execution_count": 20,
   "metadata": {},
   "outputs": [],
   "source": [
    "TRAIN_PATH = os.path.join('Tensorflow', 'workspace', 'images', 'train')\n",
    "TEST_PATH = os.path.join('Tensorflow', 'workspace', 'images', 'test')\n",
    "ARCHIVE_PATH = os.path.join('Tensorflow', 'workspace', 'images', 'archive.tar.gz')"
   ]
  },
  {
   "cell_type": "code",
   "execution_count": 21,
   "metadata": {},
   "outputs": [],
   "source": [
    "!tar -czf {ARCHIVE_PATH} {TRAIN_PATH} {TEST_PATH}"
   ]
  },
  {
   "cell_type": "code",
   "execution_count": null,
   "metadata": {},
   "outputs": [],
   "source": []
  }
 ],
 "metadata": {
  "kernelspec": {
   "display_name": "tfod",
   "language": "python",
   "name": "tfod"
  },
  "language_info": {
   "codemirror_mode": {
    "name": "ipython",
    "version": 3
   },
   "file_extension": ".py",
   "mimetype": "text/x-python",
   "name": "python",
   "nbconvert_exporter": "python",
   "pygments_lexer": "ipython3",
   "version": "3.10.5"
  }
 },
 "nbformat": 4,
 "nbformat_minor": 2
}
